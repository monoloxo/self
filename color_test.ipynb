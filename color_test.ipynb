{
 "cells": [
  {
   "cell_type": "code",
   "execution_count": 1,
   "metadata": {},
   "outputs": [],
   "source": [
    "import cv2\n",
    "import numpy as np"
   ]
  },
  {
   "cell_type": "code",
   "execution_count": 23,
   "metadata": {},
   "outputs": [],
   "source": [
    "img = np.zeros((600,1100,3), np.uint8)\n",
    "#cv2.line(img,(0,0),(511,511),(255,0,0),5)\n",
    "#cv2.circle(img,(50,60), 50, (0,0,0), -1)\n",
    "cv2.circle(img,(60,60), 50, (255,255,255), -1)\n",
    "cv2.circle(img,(200,60), 50, (125,125,125), -1)\n",
    "cv2.circle(img,(400,60), 50, (200,200,200), -1)\n",
    "\n",
    "cv2.circle(img,(600,60), 50, (0,125,255), -1)\n",
    "cv2.circle(img,(800,60), 50, (0,255,125), -1)\n",
    "cv2.circle(img,(1000,60), 50, (125,0,255), -1)\n",
    "\n",
    "\n",
    "cv2.circle(img,(60,200), 50, (255,0,0), -1)\n",
    "cv2.circle(img,(200,200), 50, (0,255,0), -1)\n",
    "cv2.circle(img,(400,200), 50, (0,0,255), -1)\n",
    "\n",
    "cv2.circle(img,(600,200), 50, (125,255,0), -1)\n",
    "cv2.circle(img,(800,200), 50, (255,0,125), -1)\n",
    "cv2.circle(img,(1000,200), 50, (255,125,0), -1)\n",
    "\n",
    "\n",
    "\n",
    "cv2.circle(img,(60,400), 50, (255,255,0), -1)\n",
    "cv2.circle(img,(200,400), 50, (255,0,255), -1)\n",
    "cv2.circle(img,(400,400), 50, (0,255,255), -1)\n",
    "\n",
    "cv2.circle(img,(600,400), 50, (125,125,0), -1)\n",
    "cv2.circle(img,(800,400), 50, (125,0,125), -1)\n",
    "cv2.circle(img,(1000,400), 50, (0,125,125), -1)\n",
    "\n",
    "\n",
    "cv2.imshow('black',img)\n",
    "cv2.waitKey(0)\n",
    "cv2.destroyAllWindows()"
   ]
  },
  {
   "cell_type": "code",
   "execution_count": null,
   "metadata": {},
   "outputs": [],
   "source": []
  },
  {
   "cell_type": "code",
   "execution_count": null,
   "metadata": {},
   "outputs": [],
   "source": []
  },
  {
   "cell_type": "code",
   "execution_count": null,
   "metadata": {},
   "outputs": [],
   "source": []
  },
  {
   "cell_type": "code",
   "execution_count": null,
   "metadata": {},
   "outputs": [],
   "source": []
  }
 ],
 "metadata": {
  "kernelspec": {
   "display_name": "Python 3",
   "language": "python",
   "name": "python3"
  },
  "language_info": {
   "codemirror_mode": {
    "name": "ipython",
    "version": 3
   },
   "file_extension": ".py",
   "mimetype": "text/x-python",
   "name": "python",
   "nbconvert_exporter": "python",
   "pygments_lexer": "ipython3",
   "version": "3.7.3"
  }
 },
 "nbformat": 4,
 "nbformat_minor": 2
}
