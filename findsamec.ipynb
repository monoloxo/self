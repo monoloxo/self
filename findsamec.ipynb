{
 "cells": [
  {
   "cell_type": "code",
   "execution_count": 2,
   "metadata": {},
   "outputs": [
    {
     "name": "stdout",
     "output_type": "stream",
     "text": [
      "y\n"
     ]
    }
   ],
   "source": [
    "so = 'abcdyesd'\n",
    "se = 'yes'\n",
    "for i in so:\n",
    "    #print(i)\n",
    "    if i ==se[0]:\n",
    "        print(i)"
   ]
  },
  {
   "cell_type": "code",
   "execution_count": 22,
   "metadata": {},
   "outputs": [
    {
     "name": "stdout",
     "output_type": "stream",
     "text": [
      "yes\n",
      "ye\n"
     ]
    }
   ],
   "source": [
    "print(se[:])\n",
    "print(se[0:2])"
   ]
  },
  {
   "cell_type": "code",
   "execution_count": 47,
   "metadata": {},
   "outputs": [
    {
     "data": {
      "text/plain": [
       "[4]"
      ]
     },
     "execution_count": 47,
     "metadata": {},
     "output_type": "execute_result"
    }
   ],
   "source": [
    "#lo = len(so)\n",
    "#le = len(se)\n",
    "#print(l)\n",
    "s = []\n",
    "def findsamec(so,se):\n",
    "    lo = len(so)\n",
    "    le = len(se)\n",
    "    for i in range(lo):\n",
    "    #print(i)\n",
    "        if so[i:i+le] == se[:]:\n",
    "            #print(i)\n",
    "            s.append(i)\n",
    "            #continue\n",
    "            #return s\n",
    "        #continue\n",
    "    #else:\n",
    "        #if i == (lo - le):\n",
    "        \n",
    "            #if so[-le: ] != se[:]:\n",
    "                #print(-1)\n",
    "    #return s\n",
    "    if len(s) == 0:\n",
    "        \n",
    "        return -1\n",
    "    else:\n",
    "        return s\n",
    "\n",
    "so = 'abcdyesyefd'\n",
    "se = 'yes'\n",
    "findsamec(so,se)"
   ]
  },
  {
   "cell_type": "code",
   "execution_count": 13,
   "metadata": {},
   "outputs": [
    {
     "data": {
      "text/plain": [
       "'esd'"
      ]
     },
     "execution_count": 13,
     "metadata": {},
     "output_type": "execute_result"
    }
   ],
   "source": [
    "so[-le: ]"
   ]
  },
  {
   "cell_type": "code",
   "execution_count": null,
   "metadata": {
    "collapsed": true
   },
   "outputs": [],
   "source": []
  }
 ],
 "metadata": {
  "kernelspec": {
   "display_name": "Python 3",
   "language": "python",
   "name": "python3"
  },
  "language_info": {
   "codemirror_mode": {
    "name": "ipython",
    "version": 3
   },
   "file_extension": ".py",
   "mimetype": "text/x-python",
   "name": "python",
   "nbconvert_exporter": "python",
   "pygments_lexer": "ipython3",
   "version": "3.6.2"
  }
 },
 "nbformat": 4,
 "nbformat_minor": 2
}
